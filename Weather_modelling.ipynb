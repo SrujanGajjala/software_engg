{
  "nbformat": 4,
  "nbformat_minor": 0,
  "metadata": {
    "colab": {
      "provenance": [],
      "authorship_tag": "ABX9TyPkfCAYGvVHiHTPWRJLeqrn",
      "include_colab_link": true
    },
    "kernelspec": {
      "name": "python3",
      "display_name": "Python 3"
    },
    "language_info": {
      "name": "python"
    }
  },
  "cells": [
    {
      "cell_type": "markdown",
      "metadata": {
        "id": "view-in-github",
        "colab_type": "text"
      },
      "source": [
        "<a href=\"https://colab.research.google.com/github/SrujanGajjala/software_engg/blob/main/Weather_modelling.ipynb\" target=\"_parent\"><img src=\"https://colab.research.google.com/assets/colab-badge.svg\" alt=\"Open In Colab\"/></a>"
      ]
    },
    {
      "cell_type": "code",
      "execution_count": 3,
      "metadata": {
        "colab": {
          "base_uri": "https://localhost:8080/"
        },
        "id": "8jvsHf4W2-KN",
        "outputId": "14dee5a3-8340-422e-ef0c-cbb111549e11"
      },
      "outputs": [
        {
          "output_type": "stream",
          "name": "stdout",
          "text": [
            "enter temperature : 30\n",
            "enter humididty : 50\n",
            "enter wind : 10\n",
            "426.0\n"
          ]
        }
      ],
      "source": [
        "T = int(input('enter temperature : '))\n",
        "H = int(input('enter humididty : '))\n",
        "W = int(input('enter wind : '))\n",
        "weather = 0.5*(T**2)-0.2*H+0.1*W-15\n",
        "print(weather)\n"
      ]
    },
    {
      "cell_type": "code",
      "source": [
        "def calculate_weather(t, h, w):\n",
        "    return 0.5 * t**2 - 0.2 * h + 0.1 * w - 15\n",
        "\n",
        "def predict_weather(weather):\n",
        "    if weather<=100:\n",
        "        return \"Stromy\"\n",
        "    elif 200<= weather <250:\n",
        "        return \"Rainy\"\n",
        "    elif 251<=weather <300:\n",
        "        return \"Cloudy\"\n",
        "    else:\n",
        "        return \"Sunny\"\n",
        "\n",
        "#hardcoded values\n",
        "def process_hardcoded_values():\n",
        "    print(\"\\nProcessing hardcoded values:\")\n",
        "    t = 30\n",
        "    h = 50\n",
        "    w = 10\n",
        "    weather = calculate_weather(t, h, w)\n",
        "    weather_type = predict_weather(weather)\n",
        "    print(f\"With hardcoded values (t={t}, h={h}, w={w}), Weather = {weather:.2f}, Prediction: {weather_type}\")\n",
        "\n",
        "#values from keyboard input\n",
        "def process_keyboard_input():\n",
        "    print(\"\\nProcessing values from keyboard input:\")\n",
        "    t = float(input(\"Enter the temperature (t): \"))\n",
        "    h = float(input(\"Enter the humidity (h): \"))\n",
        "    w = float(input(\"Enter the wind speed (w): \"))\n",
        "    weather = calculate_weather(t, h, w)\n",
        "    weather_type = predict_weather(weather)\n",
        "    print(f\"With input values (t={t}, h={h}, w={w}), Weather = {weather:.2f}, Prediction: {weather_type}\")\n",
        "#inputs from a file\n",
        "def process_single_input_from_file(file_name):\n",
        "    print(\"\\nProcessing a single set of inputs from file:\")\n",
        "    try:\n",
        "        with open(file_name, \"r\") as file:\n",
        "            line = file.readline().strip()\n",
        "            t, h, w = map(float, line.split())\n",
        "        weather = calculate_weather(t, h, w)\n",
        "        weather_type = predict_weather(weather)\n",
        "        print(f\"With input values (t={t}, h={h}, w={w}), Weather = {weather:.2f}, Prediction: {weather_type}\")\n",
        "    except FileNotFoundError:\n",
        "        print(\"Error: File not found. Please ensure the file exists.\")\n",
        "    except ValueError:\n",
        "        print(\"Error: Invalid input format in the file.\")\n",
        "\n",
        "#multiple sets of inputs from a file\n",
        "def process_multiple_inputs_from_file(file_name):\n",
        "    print(\"\\nProcessing multiple sets of inputs from file:\")\n",
        "    try:\n",
        "        with open(file_name, \"r\") as file:\n",
        "            lines = file.readlines()\n",
        "        for i, line in enumerate(lines):\n",
        "            try:\n",
        "                t, h, w = map(float, line.strip().split())\n",
        "                weather = calculate_weather(t, h, w)\n",
        "                weather_type = predict_weather(weather)\n",
        "                print(f\"With input values (t={t}, h={h}, w={w}), Weather = {weather:.2f}, Prediction: {weather_type}\")\n",
        "            except ValueError:\n",
        "                print(f\"Set {i + 1}: Invalid input format. Skipping this set.\")\n",
        "    except FileNotFoundError:\n",
        "        print(\"Error: File not found. Please ensure the file exists.\")\n",
        "\n",
        "def main():\n",
        "    print(\"Weather Modeling using the formula: w = 0.5t^2 - 0.2h + 0.1w - 15\")\n",
        "    print(\"Choose an option:\")\n",
        "    print(\"1. Process hardcoded values.\")\n",
        "    print(\"2. Process values from keyboard input.\")\n",
        "    print(\"3. Process a single set of inputs from a file.\")\n",
        "    print(\"4. Process multiple sets of inputs from a file.\")\n",
        "    choice = input(\"Enter your choice (1, 2, 3, or 4): \")\n",
        "    if choice == \"1\":\n",
        "        process_hardcoded_values()\n",
        "    elif choice == \"2\":\n",
        "        process_keyboard_input()\n",
        "    elif choice == \"3\":\n",
        "        file_name = input(\"Enter the file name (e.g., 'values.txt'): \")\n",
        "        process_single_input_from_file(file_name)\n",
        "    elif choice == \"4\":\n",
        "        file_name = input(\"Enter the file name (e.g., 'values.txt'): \")\n",
        "        process_multiple_inputs_from_file(file_name)\n",
        "    else:\n",
        "        print(\"Invalid choice. Please enter 1, 2, 3, or 4.\")\n",
        "if __name__ == \"__main__\":\n",
        "    main()"
      ],
      "metadata": {
        "colab": {
          "base_uri": "https://localhost:8080/"
        },
        "id": "8GD0JygW5IBf",
        "outputId": "820dfaeb-1fd7-4b84-f42f-7d4a040de176"
      },
      "execution_count": 7,
      "outputs": [
        {
          "output_type": "stream",
          "name": "stdout",
          "text": [
            "Weather Modeling using the formula: w = 0.5t^2 - 0.2h + 0.1w - 15\n",
            "Choose an option:\n",
            "1. Process hardcoded values.\n",
            "2. Process values from keyboard input.\n",
            "3. Process a single set of inputs from a file.\n",
            "4. Process multiple sets of inputs from a file.\n",
            "Enter your choice (1, 2, 3, or 4): 2\n",
            "\n",
            "Processing values from keyboard input:\n",
            "Enter the temperature (t): 30\n",
            "Enter the humidity (h): 50\n",
            "Enter the wind speed (w): 10\n",
            "With input values (t=30.0, h=50.0, w=10.0), Weather = 426.00, Prediction: Sunny\n"
          ]
        }
      ]
    },
    {
      "cell_type": "code",
      "source": [],
      "metadata": {
        "id": "gn6h8kSc_eiJ"
      },
      "execution_count": 5,
      "outputs": []
    }
  ]
}